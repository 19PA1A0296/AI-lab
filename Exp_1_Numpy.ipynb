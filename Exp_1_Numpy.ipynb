{
  "nbformat": 4,
  "nbformat_minor": 0,
  "metadata": {
    "colab": {
      "name": "Exp 1 Numpy",
      "provenance": [],
      "collapsed_sections": [],
      "authorship_tag": "ABX9TyPaoZqac+oeBLEfL/mK8jDS",
      "include_colab_link": true
    },
    "kernelspec": {
      "name": "python3",
      "display_name": "Python 3"
    }
  },
  "cells": [
    {
      "cell_type": "markdown",
      "metadata": {
        "id": "view-in-github",
        "colab_type": "text"
      },
      "source": [
        "<a href=\"https://colab.research.google.com/github/19PA1A0296/AI-lab/blob/master/Exp_1_Numpy.ipynb\" target=\"_parent\"><img src=\"https://colab.research.google.com/assets/colab-badge.svg\" alt=\"Open In Colab\"/></a>"
      ]
    },
    {
      "cell_type": "markdown",
      "metadata": {
        "id": "wOAOAfLjbp4I",
        "colab_type": "text"
      },
      "source": [
        "#\"Experiment No 1 : Numpy\""
      ]
    },
    {
      "cell_type": "markdown",
      "metadata": {
        "id": "dkPXxO6gb3_f",
        "colab_type": "text"
      },
      "source": [
        "##i)Different ways to create Numpy arrays"
      ]
    },
    {
      "cell_type": "code",
      "metadata": {
        "id": "f6q-58sHeGgO",
        "colab_type": "code",
        "colab": {
          "base_uri": "https://localhost:8080/",
          "height": 34
        },
        "outputId": "3f82625d-28d8-48b5-d9d4-8a43a4088f0e"
      },
      "source": [
        "import numpy as np\n",
        "a = np.array([1,2,3])\n",
        "print(a)"
      ],
      "execution_count": null,
      "outputs": [
        {
          "output_type": "stream",
          "text": [
            "[1 2 3]\n"
          ],
          "name": "stdout"
        }
      ]
    },
    {
      "cell_type": "code",
      "metadata": {
        "id": "EXP0-80yfihD",
        "colab_type": "code",
        "colab": {
          "base_uri": "https://localhost:8080/",
          "height": 52
        },
        "outputId": "85b27c5b-747c-4b50-d22b-9f84c22fba4d"
      },
      "source": [
        "a = np.array([[1,2,3],[10,20,30]])\n",
        "print(a)"
      ],
      "execution_count": null,
      "outputs": [
        {
          "output_type": "stream",
          "text": [
            "[[ 1  2  3]\n",
            " [10 20 30]]\n"
          ],
          "name": "stdout"
        }
      ]
    },
    {
      "cell_type": "markdown",
      "metadata": {
        "id": "18Yaxt7qgJmJ",
        "colab_type": "text"
      },
      "source": [
        "##ii)Add,remove,modify elements in an array"
      ]
    },
    {
      "cell_type": "markdown",
      "metadata": {
        "id": "kX8fgmLQggbq",
        "colab_type": "text"
      },
      "source": [
        "###add"
      ]
    },
    {
      "cell_type": "code",
      "metadata": {
        "id": "uZ-CgFjNhGoy",
        "colab_type": "code",
        "colab": {
          "base_uri": "https://localhost:8080/",
          "height": 34
        },
        "outputId": "7c3a3038-6d6b-4174-d33c-bdc0fd787eb1"
      },
      "source": [
        "a = np.array([1,2,3])\n",
        "b = np.append(a,[98,99,100])\n",
        "print(b)"
      ],
      "execution_count": null,
      "outputs": [
        {
          "output_type": "stream",
          "text": [
            "[  1   2   3  98  99 100]\n"
          ],
          "name": "stdout"
        }
      ]
    },
    {
      "cell_type": "markdown",
      "metadata": {
        "id": "54b7HAv_hZuP",
        "colab_type": "text"
      },
      "source": [
        "###remove"
      ]
    },
    {
      "cell_type": "code",
      "metadata": {
        "id": "x8iC-T5zhg1t",
        "colab_type": "code",
        "colab": {
          "base_uri": "https://localhost:8080/",
          "height": 34
        },
        "outputId": "09e6c3f2-481e-458e-d058-ce925ca3dc6c"
      },
      "source": [
        "x = np.delete(a,2)\n",
        "print (x)"
      ],
      "execution_count": null,
      "outputs": [
        {
          "output_type": "stream",
          "text": [
            "[1 2]\n"
          ],
          "name": "stdout"
        }
      ]
    },
    {
      "cell_type": "markdown",
      "metadata": {
        "id": "jsUQg_ouhpdS",
        "colab_type": "text"
      },
      "source": [
        "###modify"
      ]
    },
    {
      "cell_type": "code",
      "metadata": {
        "id": "FE7i8kRJhs07",
        "colab_type": "code",
        "colab": {
          "base_uri": "https://localhost:8080/",
          "height": 34
        },
        "outputId": "5045204d-363b-4f9f-a2f5-96a1ffb6171d"
      },
      "source": [
        "x[x<2]=-1\n",
        "print(x)"
      ],
      "execution_count": null,
      "outputs": [
        {
          "output_type": "stream",
          "text": [
            "[-1  2]\n"
          ],
          "name": "stdout"
        }
      ]
    },
    {
      "cell_type": "markdown",
      "metadata": {
        "id": "Stubsemyh_C2",
        "colab_type": "text"
      },
      "source": [
        "##iii) Arithmetic operations on Numpy array"
      ]
    },
    {
      "cell_type": "code",
      "metadata": {
        "id": "TkwM14VfiH3g",
        "colab_type": "code",
        "colab": {
          "base_uri": "https://localhost:8080/",
          "height": 125
        },
        "outputId": "f9e140be-d0f0-4a29-9dc2-8a2ba16dffbc"
      },
      "source": [
        "import numpy as np\n",
        "x = ([3,2,1])\n",
        "y = ([1,2,3])\n",
        "num_sum = np.add(x,y)\n",
        "num_diff = np.subtract(x,y)\n",
        "num_quo = np.divide(x,y)\n",
        "num_mod = np.mod(x,y)\n",
        "num_pow = np.power(x,y)\n",
        "print(num_sum)\n",
        "print(num_diff)\n",
        "print(num_quo)\n",
        "print(num_mod)\n",
        "print(num_pow)"
      ],
      "execution_count": null,
      "outputs": [
        {
          "output_type": "stream",
          "text": [
            "[4 4 4]\n",
            "[ 2  0 -2]\n",
            "[3.         1.         0.33333333]\n",
            "[0 0 1]\n",
            "[3 4 1]\n"
          ],
          "name": "stdout"
        }
      ]
    },
    {
      "cell_type": "markdown",
      "metadata": {
        "id": "vAJ98SBQjBzN",
        "colab_type": "text"
      },
      "source": [
        "##iv) Slicing and iterating of Numpy arrays"
      ]
    },
    {
      "cell_type": "markdown",
      "metadata": {
        "id": "vsrgCsy8jL9l",
        "colab_type": "text"
      },
      "source": [
        "###slicing"
      ]
    },
    {
      "cell_type": "code",
      "metadata": {
        "id": "c2qnGhzFjSPB",
        "colab_type": "code",
        "colab": {
          "base_uri": "https://localhost:8080/",
          "height": 34
        },
        "outputId": "8b7183d4-defa-4216-946a-211e322664b6"
      },
      "source": [
        "import numpy as np\n",
        "arr = np.array([1,2,3,4,5,6,7])\n",
        "print(arr[1:7])"
      ],
      "execution_count": null,
      "outputs": [
        {
          "output_type": "stream",
          "text": [
            "[2 3 4 5 6 7]\n"
          ],
          "name": "stdout"
        }
      ]
    },
    {
      "cell_type": "markdown",
      "metadata": {
        "id": "B0ubRxTdjnoS",
        "colab_type": "text"
      },
      "source": [
        "###iterating"
      ]
    },
    {
      "cell_type": "code",
      "metadata": {
        "id": "CUbsuVTXjrjH",
        "colab_type": "code",
        "colab": {
          "base_uri": "https://localhost:8080/",
          "height": 140
        },
        "outputId": "0d241026-a5a4-4010-dad4-2cb730d33921"
      },
      "source": [
        "for x in arr:\n",
        " print(x)"
      ],
      "execution_count": null,
      "outputs": [
        {
          "output_type": "stream",
          "text": [
            "1\n",
            "2\n",
            "3\n",
            "4\n",
            "5\n",
            "6\n",
            "7\n"
          ],
          "name": "stdout"
        }
      ]
    },
    {
      "cell_type": "markdown",
      "metadata": {
        "id": "ZO6MBgl4j221",
        "colab_type": "text"
      },
      "source": [
        "##v) Matrix operations on Numpy arrays"
      ]
    },
    {
      "cell_type": "code",
      "metadata": {
        "id": "PPcUii23kA3_",
        "colab_type": "code",
        "colab": {
          "base_uri": "https://localhost:8080/",
          "height": 123
        },
        "outputId": "4b08dfd0-6047-4471-ffa6-ece33d56739a"
      },
      "source": [
        "import numpy as np\n",
        "x = np.array([[1,2],[3,4]])\n",
        "y = np.array([[10,20],[30,40]])\n",
        "print(np.add(x,y))\n",
        "print(np.subtract(x,y))\n",
        "print(np.divide(x,y))"
      ],
      "execution_count": null,
      "outputs": [
        {
          "output_type": "stream",
          "text": [
            "[[11 22]\n",
            " [33 44]]\n",
            "[[ -9 -18]\n",
            " [-27 -36]]\n",
            "[[0.1 0.1]\n",
            " [0.1 0.1]]\n"
          ],
          "name": "stdout"
        }
      ]
    }
  ]
}